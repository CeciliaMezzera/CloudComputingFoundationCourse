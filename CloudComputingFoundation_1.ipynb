{
 "cells": [
  {
   "cell_type": "markdown",
   "id": "8b6b6839",
   "metadata": {},
   "source": [
    "# CLOUD COMPUTING FOUNDATION\n",
    "# Coursera Course - December 2022\n"
   ]
  },
  {
   "cell_type": "code",
   "execution_count": 1,
   "id": "d9af3044",
   "metadata": {
    "scrolled": true
   },
   "outputs": [
    {
     "name": "stdout",
     "output_type": "stream",
     "text": [
      "hello world\n"
     ]
    }
   ],
   "source": [
    "# Create a code cell and print a Python Hello World statement\n",
    "print(\"hello world\")"
   ]
  },
  {
   "cell_type": "code",
   "execution_count": null,
   "id": "a05211c6",
   "metadata": {},
   "outputs": [],
   "source": []
  }
 ],
 "metadata": {
  "kernelspec": {
   "display_name": "Python 3 (ipykernel)",
   "language": "python",
   "name": "python3"
  },
  "language_info": {
   "codemirror_mode": {
    "name": "ipython",
    "version": 3
   },
   "file_extension": ".py",
   "mimetype": "text/x-python",
   "name": "python",
   "nbconvert_exporter": "python",
   "pygments_lexer": "ipython3",
   "version": "3.9.7"
  }
 },
 "nbformat": 4,
 "nbformat_minor": 5
}
