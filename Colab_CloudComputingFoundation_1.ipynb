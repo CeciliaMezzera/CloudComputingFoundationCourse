{
  "nbformat": 4,
  "nbformat_minor": 0,
  "metadata": {
    "colab": {
      "provenance": [],
      "authorship_tag": "ABX9TyOlxn+1rDw9UZjgMUXjf24s",
      "include_colab_link": true
    },
    "kernelspec": {
      "name": "python3",
      "display_name": "Python 3"
    },
    "language_info": {
      "name": "python"
    }
  },
  "cells": [
    {
      "cell_type": "markdown",
      "metadata": {
        "id": "view-in-github",
        "colab_type": "text"
      },
      "source": [
        "<a href=\"https://colab.research.google.com/github/CeciliaMezzera/CloudComputingFoundationCourse/blob/main/Colab_CloudComputingFoundation_1.ipynb\" target=\"_parent\"><img src=\"https://colab.research.google.com/assets/colab-badge.svg\" alt=\"Open In Colab\"/></a>"
      ]
    },
    {
      "cell_type": "markdown",
      "source": [
        "# CLOUD COMPUTING FOUNDATION\n",
        "# Coursera Course December 2002"
      ],
      "metadata": {
        "id": "G4079Q93oMNz"
      }
    },
    {
      "cell_type": "code",
      "execution_count": 2,
      "metadata": {
        "colab": {
          "base_uri": "https://localhost:8080/"
        },
        "id": "Wj6W5UUnn7bE",
        "outputId": "91f295b4-aa52-4e21-df27-681d40a386ba"
      },
      "outputs": [
        {
          "output_type": "stream",
          "name": "stdout",
          "text": [
            "hello world\n"
          ]
        }
      ],
      "source": [
        "# Create a code cell and print a Python Hello World statement\n",
        "print(\"hello world\")"
      ]
    },
    {
      "cell_type": "code",
      "source": [],
      "metadata": {
        "id": "TP7uaWPtoCCx"
      },
      "execution_count": null,
      "outputs": []
    }
  ]
}